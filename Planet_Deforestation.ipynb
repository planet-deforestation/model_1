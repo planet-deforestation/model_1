{
 "cells": [
  {
   "cell_type": "code",
   "execution_count": 195,
   "metadata": {
    "collapsed": false
   },
   "outputs": [
    {
     "name": "stdout",
     "output_type": "stream",
     "text": [
      "haze primary\n",
      "['haze', 'primary']\n",
      "agriculture clear primary water\n",
      "['agriculture', 'clear', 'primary', 'water']\n",
      "(3,)\n",
      "[' ' 'a' 'agriculture' 'c' 'clear' 'e' 'haze' 'i' 'l' 'm' 'p' 'primary' 'r'\n",
      " 'water' 'y']\n"
     ]
    }
   ],
   "source": [
    "from keras.models import Sequential\n",
    "from sklearn.preprocessing import MultiLabelBinarizer\n",
    "from PIL import Image\n",
    "from skimage import io\n",
    "import pandas as pd\n",
    "import numpy as np\n",
    "import sklearn\n",
    "model = Sequential()\n",
    "csv = pd.read_csv('train_v2.csv')\n",
    "dataSet = np.zeros(shape=(100,256,256,4))\n",
    "dataSet2 = np.zeros(shape=(100,256,256,4))\n",
    "y_train = csv.loc[:2,'tags']\n",
    "categories = ['agriculture', 'artisinal_mine', 'bare_ground', 'blooming', 'blow_down', 'clear', 'cloudy', 'conventional_mine', 'cultivation', 'habitation', 'haze', 'partly_cloudy', 'primary', 'road', 'selective_logging', 'slash_burn', 'water']\n",
    "\n",
    "for item in np.arange(2):  \n",
    "    print(y_train[item])\n",
    "    y_train[item] = y_train[item].split()\n",
    "    print(y_train[item])\n",
    "\n",
    "y_binary = MultiLabelBinarizer(c)\n",
    "y_binary2 = y_binary.fit_transform(y_train)\n",
    "print(y_train.shape)\n",
    "print(y_binary.classes_)\n",
    "\n",
    "for item in np.arange(100):\n",
    "    pic = csv.loc[item, 'image_name']\n",
    "    imArr = np.asarray(io.imread('train-tif-v2/' + pic + '.tif'),dtype=\"uint8\" )\n",
    "    dataSet[item] = imArr\n",
    "\n",
    "for item in np.arange(101,200):\n",
    "    pic2 = csv.loc[item, 'image_name']\n",
    "    imArr2 = np.asarray(io.imread('train-tif-v2/' + pic + '.tif'),dtype=\"uint8\" )\n",
    "    dataSet2[item-101] = imArr2\n",
    "\n",
    "\n"
   ]
  },
  {
   "cell_type": "code",
   "execution_count": null,
   "metadata": {
    "collapsed": true
   },
   "outputs": [],
   "source": [
    "model.add(Conv2D(32, kernel_size=(3, 3), padding='same', input_shape=dataSet.shape[1:]))\n",
    "model.add(Activation('relu'))\n",
    "model.add(MaxPooling2D(pool_size=(2, 2)))\n",
    "model.add(Dropout(0.25))\n",
    "model.add(Flatten())\n",
    "model.add(Dense(512))\n",
    "model.add(Activation('relu'))\n",
    "model.add(Dropout(0.5))\n",
    "model.add(Dense(17))\n",
    "model.add(Activation('softmax'))\n",
    "model.fit(dataSet, y_train, batch_size=10, epochs=20, validation_data=(dataSet2, y_test))"
   ]
  }
 ],
 "metadata": {
  "kernelspec": {
   "display_name": "Python 3",
   "language": "python",
   "name": "python3"
  },
  "language_info": {
   "codemirror_mode": {
    "name": "ipython",
    "version": 3
   },
   "file_extension": ".py",
   "mimetype": "text/x-python",
   "name": "python",
   "nbconvert_exporter": "python",
   "pygments_lexer": "ipython3",
   "version": "3.6.0"
  }
 },
 "nbformat": 4,
 "nbformat_minor": 2
}
